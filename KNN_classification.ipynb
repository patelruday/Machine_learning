{
  "cells": [
    {
      "cell_type": "markdown",
      "metadata": {
        "id": "view-in-github",
        "colab_type": "text"
      },
      "source": [
        "<a href=\"https://colab.research.google.com/github/patelruday/Machine_learning/blob/main/KNN_classification.ipynb\" target=\"_parent\"><img src=\"https://colab.research.google.com/assets/colab-badge.svg\" alt=\"Open In Colab\"/></a>"
      ]
    },
    {
      "cell_type": "code",
      "execution_count": null,
      "id": "548aa8ca",
      "metadata": {
        "id": "548aa8ca"
      },
      "outputs": [],
      "source": [
        "import pandas as pd\n",
        "from sklearn.neighbors import KNeighborsClassifier\n",
        "from sklearn.model_selection import train_test_split,StratifiedKFold,GridSearchCV\n",
        "from sklearn.metrics import accuracy_score,classification_report,confusion_matrix\n",
        "import seaborn as sns\n",
        "import matplotlib.pyplot as plt\n",
        "from sklearn.preprocessing import StandardScaler\n",
        "import numpy as np\n"
      ]
    },
    {
      "cell_type": "code",
      "execution_count": null,
      "id": "7d0a4c27",
      "metadata": {
        "id": "7d0a4c27"
      },
      "outputs": [],
      "source": [
        "wine=pd.read_csv('winequality-red.csv')"
      ]
    },
    {
      "cell_type": "code",
      "execution_count": null,
      "id": "dc58ade9",
      "metadata": {
        "id": "dc58ade9",
        "outputId": "0afa78eb-db68-4cf7-e271-9d2a66e49103"
      },
      "outputs": [
        {
          "data": {
            "text/plain": [
              "(1599, 12)"
            ]
          },
          "execution_count": 3,
          "metadata": {},
          "output_type": "execute_result"
        }
      ],
      "source": [
        "wine.shape"
      ]
    },
    {
      "cell_type": "code",
      "execution_count": null,
      "id": "72e02ba0",
      "metadata": {
        "id": "72e02ba0",
        "outputId": "159cdf19-4870-48a0-dc77-4859bc00950d"
      },
      "outputs": [
        {
          "data": {
            "text/plain": [
              "fixed acidity           0\n",
              "volatile acidity        0\n",
              "citric acid             0\n",
              "residual sugar          0\n",
              "chlorides               0\n",
              "free sulfur dioxide     0\n",
              "total sulfur dioxide    0\n",
              "density                 0\n",
              "pH                      0\n",
              "sulphates               0\n",
              "alcohol                 0\n",
              "quality                 0\n",
              "dtype: int64"
            ]
          },
          "execution_count": 4,
          "metadata": {},
          "output_type": "execute_result"
        }
      ],
      "source": [
        "wine.isna().sum()"
      ]
    },
    {
      "cell_type": "code",
      "execution_count": null,
      "id": "ed5d157f",
      "metadata": {
        "id": "ed5d157f",
        "outputId": "b57424d9-29b6-485f-d674-e57b18d17689"
      },
      "outputs": [
        {
          "data": {
            "text/plain": [
              "Index(['fixed acidity', 'volatile acidity', 'citric acid', 'residual sugar',\n",
              "       'chlorides', 'free sulfur dioxide', 'total sulfur dioxide', 'density',\n",
              "       'pH', 'sulphates', 'alcohol', 'quality'],\n",
              "      dtype='object')"
            ]
          },
          "execution_count": 5,
          "metadata": {},
          "output_type": "execute_result"
        }
      ],
      "source": [
        "wine.columns"
      ]
    },
    {
      "cell_type": "code",
      "execution_count": null,
      "id": "21c3e7b2",
      "metadata": {
        "id": "21c3e7b2",
        "outputId": "0c8b17f5-026a-4d79-881e-fca477c0a041"
      },
      "outputs": [
        {
          "data": {
            "text/plain": [
              "quality\n",
              "5    681\n",
              "6    638\n",
              "7    199\n",
              "4     53\n",
              "8     18\n",
              "3     10\n",
              "Name: count, dtype: int64"
            ]
          },
          "execution_count": 6,
          "metadata": {},
          "output_type": "execute_result"
        }
      ],
      "source": [
        "wine.quality.value_counts()"
      ]
    },
    {
      "cell_type": "code",
      "execution_count": null,
      "id": "f4f468c7",
      "metadata": {
        "id": "f4f468c7",
        "outputId": "85b72b7c-d23c-4ff6-e8de-0b8b48db9ddd"
      },
      "outputs": [
        {
          "data": {
            "text/html": [
              "<div>\n",
              "<style scoped>\n",
              "    .dataframe tbody tr th:only-of-type {\n",
              "        vertical-align: middle;\n",
              "    }\n",
              "\n",
              "    .dataframe tbody tr th {\n",
              "        vertical-align: top;\n",
              "    }\n",
              "\n",
              "    .dataframe thead th {\n",
              "        text-align: right;\n",
              "    }\n",
              "</style>\n",
              "<table border=\"1\" class=\"dataframe\">\n",
              "  <thead>\n",
              "    <tr style=\"text-align: right;\">\n",
              "      <th></th>\n",
              "      <th>fixed acidity</th>\n",
              "      <th>volatile acidity</th>\n",
              "      <th>citric acid</th>\n",
              "      <th>residual sugar</th>\n",
              "      <th>chlorides</th>\n",
              "      <th>free sulfur dioxide</th>\n",
              "      <th>total sulfur dioxide</th>\n",
              "      <th>density</th>\n",
              "      <th>pH</th>\n",
              "      <th>sulphates</th>\n",
              "      <th>alcohol</th>\n",
              "      <th>quality</th>\n",
              "    </tr>\n",
              "  </thead>\n",
              "  <tbody>\n",
              "    <tr>\n",
              "      <th>fixed acidity</th>\n",
              "      <td>1.000000</td>\n",
              "      <td>-0.256131</td>\n",
              "      <td>0.671703</td>\n",
              "      <td>0.114777</td>\n",
              "      <td>0.093705</td>\n",
              "      <td>-0.153794</td>\n",
              "      <td>-0.113181</td>\n",
              "      <td>0.668047</td>\n",
              "      <td>-0.682978</td>\n",
              "      <td>0.183006</td>\n",
              "      <td>-0.061668</td>\n",
              "      <td>0.124052</td>\n",
              "    </tr>\n",
              "    <tr>\n",
              "      <th>volatile acidity</th>\n",
              "      <td>-0.256131</td>\n",
              "      <td>1.000000</td>\n",
              "      <td>-0.552496</td>\n",
              "      <td>0.001918</td>\n",
              "      <td>0.061298</td>\n",
              "      <td>-0.010504</td>\n",
              "      <td>0.076470</td>\n",
              "      <td>0.022026</td>\n",
              "      <td>0.234937</td>\n",
              "      <td>-0.260987</td>\n",
              "      <td>-0.202288</td>\n",
              "      <td>-0.390558</td>\n",
              "    </tr>\n",
              "    <tr>\n",
              "      <th>citric acid</th>\n",
              "      <td>0.671703</td>\n",
              "      <td>-0.552496</td>\n",
              "      <td>1.000000</td>\n",
              "      <td>0.143577</td>\n",
              "      <td>0.203823</td>\n",
              "      <td>-0.060978</td>\n",
              "      <td>0.035533</td>\n",
              "      <td>0.364947</td>\n",
              "      <td>-0.541904</td>\n",
              "      <td>0.312770</td>\n",
              "      <td>0.109903</td>\n",
              "      <td>0.226373</td>\n",
              "    </tr>\n",
              "    <tr>\n",
              "      <th>residual sugar</th>\n",
              "      <td>0.114777</td>\n",
              "      <td>0.001918</td>\n",
              "      <td>0.143577</td>\n",
              "      <td>1.000000</td>\n",
              "      <td>0.055610</td>\n",
              "      <td>0.187049</td>\n",
              "      <td>0.203028</td>\n",
              "      <td>0.355283</td>\n",
              "      <td>-0.085652</td>\n",
              "      <td>0.005527</td>\n",
              "      <td>0.042075</td>\n",
              "      <td>0.013732</td>\n",
              "    </tr>\n",
              "    <tr>\n",
              "      <th>chlorides</th>\n",
              "      <td>0.093705</td>\n",
              "      <td>0.061298</td>\n",
              "      <td>0.203823</td>\n",
              "      <td>0.055610</td>\n",
              "      <td>1.000000</td>\n",
              "      <td>0.005562</td>\n",
              "      <td>0.047400</td>\n",
              "      <td>0.200632</td>\n",
              "      <td>-0.265026</td>\n",
              "      <td>0.371260</td>\n",
              "      <td>-0.221141</td>\n",
              "      <td>-0.128907</td>\n",
              "    </tr>\n",
              "    <tr>\n",
              "      <th>free sulfur dioxide</th>\n",
              "      <td>-0.153794</td>\n",
              "      <td>-0.010504</td>\n",
              "      <td>-0.060978</td>\n",
              "      <td>0.187049</td>\n",
              "      <td>0.005562</td>\n",
              "      <td>1.000000</td>\n",
              "      <td>0.667666</td>\n",
              "      <td>-0.021946</td>\n",
              "      <td>0.070377</td>\n",
              "      <td>0.051658</td>\n",
              "      <td>-0.069408</td>\n",
              "      <td>-0.050656</td>\n",
              "    </tr>\n",
              "    <tr>\n",
              "      <th>total sulfur dioxide</th>\n",
              "      <td>-0.113181</td>\n",
              "      <td>0.076470</td>\n",
              "      <td>0.035533</td>\n",
              "      <td>0.203028</td>\n",
              "      <td>0.047400</td>\n",
              "      <td>0.667666</td>\n",
              "      <td>1.000000</td>\n",
              "      <td>0.071269</td>\n",
              "      <td>-0.066495</td>\n",
              "      <td>0.042947</td>\n",
              "      <td>-0.205654</td>\n",
              "      <td>-0.185100</td>\n",
              "    </tr>\n",
              "    <tr>\n",
              "      <th>density</th>\n",
              "      <td>0.668047</td>\n",
              "      <td>0.022026</td>\n",
              "      <td>0.364947</td>\n",
              "      <td>0.355283</td>\n",
              "      <td>0.200632</td>\n",
              "      <td>-0.021946</td>\n",
              "      <td>0.071269</td>\n",
              "      <td>1.000000</td>\n",
              "      <td>-0.341699</td>\n",
              "      <td>0.148506</td>\n",
              "      <td>-0.496180</td>\n",
              "      <td>-0.174919</td>\n",
              "    </tr>\n",
              "    <tr>\n",
              "      <th>pH</th>\n",
              "      <td>-0.682978</td>\n",
              "      <td>0.234937</td>\n",
              "      <td>-0.541904</td>\n",
              "      <td>-0.085652</td>\n",
              "      <td>-0.265026</td>\n",
              "      <td>0.070377</td>\n",
              "      <td>-0.066495</td>\n",
              "      <td>-0.341699</td>\n",
              "      <td>1.000000</td>\n",
              "      <td>-0.196648</td>\n",
              "      <td>0.205633</td>\n",
              "      <td>-0.057731</td>\n",
              "    </tr>\n",
              "    <tr>\n",
              "      <th>sulphates</th>\n",
              "      <td>0.183006</td>\n",
              "      <td>-0.260987</td>\n",
              "      <td>0.312770</td>\n",
              "      <td>0.005527</td>\n",
              "      <td>0.371260</td>\n",
              "      <td>0.051658</td>\n",
              "      <td>0.042947</td>\n",
              "      <td>0.148506</td>\n",
              "      <td>-0.196648</td>\n",
              "      <td>1.000000</td>\n",
              "      <td>0.093595</td>\n",
              "      <td>0.251397</td>\n",
              "    </tr>\n",
              "    <tr>\n",
              "      <th>alcohol</th>\n",
              "      <td>-0.061668</td>\n",
              "      <td>-0.202288</td>\n",
              "      <td>0.109903</td>\n",
              "      <td>0.042075</td>\n",
              "      <td>-0.221141</td>\n",
              "      <td>-0.069408</td>\n",
              "      <td>-0.205654</td>\n",
              "      <td>-0.496180</td>\n",
              "      <td>0.205633</td>\n",
              "      <td>0.093595</td>\n",
              "      <td>1.000000</td>\n",
              "      <td>0.476166</td>\n",
              "    </tr>\n",
              "    <tr>\n",
              "      <th>quality</th>\n",
              "      <td>0.124052</td>\n",
              "      <td>-0.390558</td>\n",
              "      <td>0.226373</td>\n",
              "      <td>0.013732</td>\n",
              "      <td>-0.128907</td>\n",
              "      <td>-0.050656</td>\n",
              "      <td>-0.185100</td>\n",
              "      <td>-0.174919</td>\n",
              "      <td>-0.057731</td>\n",
              "      <td>0.251397</td>\n",
              "      <td>0.476166</td>\n",
              "      <td>1.000000</td>\n",
              "    </tr>\n",
              "  </tbody>\n",
              "</table>\n",
              "</div>"
            ],
            "text/plain": [
              "                      fixed acidity  volatile acidity  citric acid  \\\n",
              "fixed acidity              1.000000         -0.256131     0.671703   \n",
              "volatile acidity          -0.256131          1.000000    -0.552496   \n",
              "citric acid                0.671703         -0.552496     1.000000   \n",
              "residual sugar             0.114777          0.001918     0.143577   \n",
              "chlorides                  0.093705          0.061298     0.203823   \n",
              "free sulfur dioxide       -0.153794         -0.010504    -0.060978   \n",
              "total sulfur dioxide      -0.113181          0.076470     0.035533   \n",
              "density                    0.668047          0.022026     0.364947   \n",
              "pH                        -0.682978          0.234937    -0.541904   \n",
              "sulphates                  0.183006         -0.260987     0.312770   \n",
              "alcohol                   -0.061668         -0.202288     0.109903   \n",
              "quality                    0.124052         -0.390558     0.226373   \n",
              "\n",
              "                      residual sugar  chlorides  free sulfur dioxide  \\\n",
              "fixed acidity               0.114777   0.093705            -0.153794   \n",
              "volatile acidity            0.001918   0.061298            -0.010504   \n",
              "citric acid                 0.143577   0.203823            -0.060978   \n",
              "residual sugar              1.000000   0.055610             0.187049   \n",
              "chlorides                   0.055610   1.000000             0.005562   \n",
              "free sulfur dioxide         0.187049   0.005562             1.000000   \n",
              "total sulfur dioxide        0.203028   0.047400             0.667666   \n",
              "density                     0.355283   0.200632            -0.021946   \n",
              "pH                         -0.085652  -0.265026             0.070377   \n",
              "sulphates                   0.005527   0.371260             0.051658   \n",
              "alcohol                     0.042075  -0.221141            -0.069408   \n",
              "quality                     0.013732  -0.128907            -0.050656   \n",
              "\n",
              "                      total sulfur dioxide   density        pH  sulphates  \\\n",
              "fixed acidity                    -0.113181  0.668047 -0.682978   0.183006   \n",
              "volatile acidity                  0.076470  0.022026  0.234937  -0.260987   \n",
              "citric acid                       0.035533  0.364947 -0.541904   0.312770   \n",
              "residual sugar                    0.203028  0.355283 -0.085652   0.005527   \n",
              "chlorides                         0.047400  0.200632 -0.265026   0.371260   \n",
              "free sulfur dioxide               0.667666 -0.021946  0.070377   0.051658   \n",
              "total sulfur dioxide              1.000000  0.071269 -0.066495   0.042947   \n",
              "density                           0.071269  1.000000 -0.341699   0.148506   \n",
              "pH                               -0.066495 -0.341699  1.000000  -0.196648   \n",
              "sulphates                         0.042947  0.148506 -0.196648   1.000000   \n",
              "alcohol                          -0.205654 -0.496180  0.205633   0.093595   \n",
              "quality                          -0.185100 -0.174919 -0.057731   0.251397   \n",
              "\n",
              "                       alcohol   quality  \n",
              "fixed acidity        -0.061668  0.124052  \n",
              "volatile acidity     -0.202288 -0.390558  \n",
              "citric acid           0.109903  0.226373  \n",
              "residual sugar        0.042075  0.013732  \n",
              "chlorides            -0.221141 -0.128907  \n",
              "free sulfur dioxide  -0.069408 -0.050656  \n",
              "total sulfur dioxide -0.205654 -0.185100  \n",
              "density              -0.496180 -0.174919  \n",
              "pH                    0.205633 -0.057731  \n",
              "sulphates             0.093595  0.251397  \n",
              "alcohol               1.000000  0.476166  \n",
              "quality               0.476166  1.000000  "
            ]
          },
          "execution_count": 7,
          "metadata": {},
          "output_type": "execute_result"
        }
      ],
      "source": [
        "wine.corr()"
      ]
    },
    {
      "cell_type": "code",
      "execution_count": null,
      "id": "e807bae8",
      "metadata": {
        "scrolled": true,
        "id": "e807bae8",
        "outputId": "cf89ba6a-63fc-4c87-c03e-3cd4a6505118"
      },
      "outputs": [
        {
          "data": {
            "text/plain": [
              "<Axes: xlabel='quality', ylabel='count'>"
            ]
          },
          "execution_count": 8,
          "metadata": {},
          "output_type": "execute_result"
        },
        {
          "data": {
            "image/png": "[encoded data removed]",
            "text/plain": [
              "<Figure size 640x480 with 1 Axes>"
            ]
          },
          "metadata": {},
          "output_type": "display_data"
        }
      ],
      "source": [
        "sns.countplot(x=wine['quality'])"
      ]
    },
    {
      "cell_type": "code",
      "execution_count": null,
      "id": "46c078ee",
      "metadata": {
        "id": "46c078ee"
      },
      "outputs": [],
      "source": [
        "wine1=wine.copy()"
      ]
    },
    {
      "cell_type": "code",
      "execution_count": null,
      "id": "716a3278",
      "metadata": {
        "id": "716a3278"
      },
      "outputs": [],
      "source": [
        "wine1['quality']=[1 if x>=6 else 0 for x in wine1['quality']]"
      ]
    },
    {
      "cell_type": "code",
      "execution_count": null,
      "id": "7ab877d4",
      "metadata": {
        "id": "7ab877d4",
        "outputId": "bd305ad8-44d9-4482-cd32-0e66fe89b292"
      },
      "outputs": [
        {
          "data": {
            "text/plain": [
              "<Axes: xlabel='quality', ylabel='count'>"
            ]
          },
          "execution_count": 77,
          "metadata": {},
          "output_type": "execute_result"
        },
        {
          "data": {
            "image/png": "[encoded data removed]",
            "text/plain": [
              "<Figure size 640x480 with 1 Axes>"
            ]
          },
          "metadata": {},
          "output_type": "display_data"
        }
      ],
      "source": [
        "sns.countplot(x=wine1['quality'])\n"
      ]
    },
    {
      "cell_type": "code",
      "execution_count": null,
      "id": "3e0d3388",
      "metadata": {
        "id": "3e0d3388"
      },
      "outputs": [],
      "source": [
        "X=wine1.drop(['quality'],axis=1)\n",
        "y=wine1['quality']"
      ]
    },
    {
      "cell_type": "code",
      "execution_count": null,
      "id": "f37efae9",
      "metadata": {
        "id": "f37efae9",
        "outputId": "efb100d1-65e1-4e44-abf8-dd866964233f"
      },
      "outputs": [
        {
          "data": {
            "text/html": [
              "<div>\n",
              "<style scoped>\n",
              "    .dataframe tbody tr th:only-of-type {\n",
              "        vertical-align: middle;\n",
              "    }\n",
              "\n",
              "    .dataframe tbody tr th {\n",
              "        vertical-align: top;\n",
              "    }\n",
              "\n",
              "    .dataframe thead th {\n",
              "        text-align: right;\n",
              "    }\n",
              "</style>\n",
              "<table border=\"1\" class=\"dataframe\">\n",
              "  <thead>\n",
              "    <tr style=\"text-align: right;\">\n",
              "      <th></th>\n",
              "      <th>fixed acidity</th>\n",
              "      <th>volatile acidity</th>\n",
              "      <th>citric acid</th>\n",
              "      <th>residual sugar</th>\n",
              "      <th>chlorides</th>\n",
              "      <th>free sulfur dioxide</th>\n",
              "      <th>total sulfur dioxide</th>\n",
              "      <th>density</th>\n",
              "      <th>pH</th>\n",
              "      <th>sulphates</th>\n",
              "      <th>alcohol</th>\n",
              "    </tr>\n",
              "  </thead>\n",
              "  <tbody>\n",
              "    <tr>\n",
              "      <th>0</th>\n",
              "      <td>7.4</td>\n",
              "      <td>0.70</td>\n",
              "      <td>0.00</td>\n",
              "      <td>1.9</td>\n",
              "      <td>0.076</td>\n",
              "      <td>11.0</td>\n",
              "      <td>34.0</td>\n",
              "      <td>0.9978</td>\n",
              "      <td>3.51</td>\n",
              "      <td>0.56</td>\n",
              "      <td>9.4</td>\n",
              "    </tr>\n",
              "    <tr>\n",
              "      <th>1</th>\n",
              "      <td>7.8</td>\n",
              "      <td>0.88</td>\n",
              "      <td>0.00</td>\n",
              "      <td>2.6</td>\n",
              "      <td>0.098</td>\n",
              "      <td>25.0</td>\n",
              "      <td>67.0</td>\n",
              "      <td>0.9968</td>\n",
              "      <td>3.20</td>\n",
              "      <td>0.68</td>\n",
              "      <td>9.8</td>\n",
              "    </tr>\n",
              "    <tr>\n",
              "      <th>2</th>\n",
              "      <td>7.8</td>\n",
              "      <td>0.76</td>\n",
              "      <td>0.04</td>\n",
              "      <td>2.3</td>\n",
              "      <td>0.092</td>\n",
              "      <td>15.0</td>\n",
              "      <td>54.0</td>\n",
              "      <td>0.9970</td>\n",
              "      <td>3.26</td>\n",
              "      <td>0.65</td>\n",
              "      <td>9.8</td>\n",
              "    </tr>\n",
              "    <tr>\n",
              "      <th>3</th>\n",
              "      <td>11.2</td>\n",
              "      <td>0.28</td>\n",
              "      <td>0.56</td>\n",
              "      <td>1.9</td>\n",
              "      <td>0.075</td>\n",
              "      <td>17.0</td>\n",
              "      <td>60.0</td>\n",
              "      <td>0.9980</td>\n",
              "      <td>3.16</td>\n",
              "      <td>0.58</td>\n",
              "      <td>9.8</td>\n",
              "    </tr>\n",
              "    <tr>\n",
              "      <th>4</th>\n",
              "      <td>7.4</td>\n",
              "      <td>0.70</td>\n",
              "      <td>0.00</td>\n",
              "      <td>1.9</td>\n",
              "      <td>0.076</td>\n",
              "      <td>11.0</td>\n",
              "      <td>34.0</td>\n",
              "      <td>0.9978</td>\n",
              "      <td>3.51</td>\n",
              "      <td>0.56</td>\n",
              "      <td>9.4</td>\n",
              "    </tr>\n",
              "  </tbody>\n",
              "</table>\n",
              "</div>"
            ],
            "text/plain": [
              "   fixed acidity  volatile acidity  citric acid  residual sugar  chlorides  \\\n",
              "0            7.4              0.70         0.00             1.9      0.076   \n",
              "1            7.8              0.88         0.00             2.6      0.098   \n",
              "2            7.8              0.76         0.04             2.3      0.092   \n",
              "3           11.2              0.28         0.56             1.9      0.075   \n",
              "4            7.4              0.70         0.00             1.9      0.076   \n",
              "\n",
              "   free sulfur dioxide  total sulfur dioxide  density    pH  sulphates  \\\n",
              "0                 11.0                  34.0   0.9978  3.51       0.56   \n",
              "1                 25.0                  67.0   0.9968  3.20       0.68   \n",
              "2                 15.0                  54.0   0.9970  3.26       0.65   \n",
              "3                 17.0                  60.0   0.9980  3.16       0.58   \n",
              "4                 11.0                  34.0   0.9978  3.51       0.56   \n",
              "\n",
              "   alcohol  \n",
              "0      9.4  \n",
              "1      9.8  \n",
              "2      9.8  \n",
              "3      9.8  \n",
              "4      9.4  "
            ]
          },
          "execution_count": 79,
          "metadata": {},
          "output_type": "execute_result"
        }
      ],
      "source": [
        "X.head()"
      ]
    },
    {
      "cell_type": "code",
      "execution_count": null,
      "id": "778b635a",
      "metadata": {
        "id": "778b635a",
        "outputId": "344b6838-64bc-4be5-f314-c4249e766f89"
      },
      "outputs": [
        {
          "data": {
            "text/plain": [
              "0    0\n",
              "1    0\n",
              "2    0\n",
              "3    1\n",
              "4    0\n",
              "Name: quality, dtype: int64"
            ]
          },
          "execution_count": 80,
          "metadata": {},
          "output_type": "execute_result"
        }
      ],
      "source": [
        "y.head()"
      ]
    },
    {
      "cell_type": "code",
      "execution_count": null,
      "id": "9314b3fd",
      "metadata": {
        "id": "9314b3fd"
      },
      "outputs": [],
      "source": [
        "X_train,X_test,y_train,y_test=train_test_split(X,y,test_size=.2,random_state=2024,stratify=y)"
      ]
    },
    {
      "cell_type": "code",
      "execution_count": null,
      "id": "01120aa6",
      "metadata": {
        "id": "01120aa6",
        "outputId": "667baef9-2c7f-4e0d-8e67-b45b2d05756e"
      },
      "outputs": [
        {
          "data": {
            "text/plain": [
              "(1279, 11)"
            ]
          },
          "execution_count": 108,
          "metadata": {},
          "output_type": "execute_result"
        }
      ],
      "source": [
        "X_train.shape"
      ]
    },
    {
      "cell_type": "code",
      "execution_count": null,
      "id": "c5d914c7",
      "metadata": {
        "id": "c5d914c7",
        "outputId": "2619ac43-bbc7-45cd-fdb0-54b8307538f2"
      },
      "outputs": [
        {
          "data": {
            "text/plain": [
              "(320, 11)"
            ]
          },
          "execution_count": 109,
          "metadata": {},
          "output_type": "execute_result"
        }
      ],
      "source": [
        "X_test.shape"
      ]
    },
    {
      "cell_type": "code",
      "execution_count": null,
      "id": "8e9e272c",
      "metadata": {
        "id": "8e9e272c"
      },
      "outputs": [],
      "source": [
        "scaler=StandardScaler()"
      ]
    },
    {
      "cell_type": "code",
      "execution_count": null,
      "id": "28a6de13",
      "metadata": {
        "id": "28a6de13"
      },
      "outputs": [],
      "source": [
        "X_train_sc=scaler.fit_transform(X_train)"
      ]
    },
    {
      "cell_type": "code",
      "execution_count": null,
      "id": "b0c60a46",
      "metadata": {
        "id": "b0c60a46"
      },
      "outputs": [],
      "source": [
        "X_test_sc=scaler.transform(X_test)"
      ]
    },
    {
      "cell_type": "code",
      "execution_count": null,
      "id": "f89c925d",
      "metadata": {
        "id": "f89c925d"
      },
      "outputs": [],
      "source": [
        "error_rate=[]\n",
        "for i in range(1,40):\n",
        "    knn=KNeighborsClassifier(n_neighbors=i)\n",
        "    knn.fit(X_train_sc,y_train)\n",
        "    y_prd=knn.predict(X_test_sc)\n",
        "    error_rate.append(np.mean(y_prd!=y_test))"
      ]
    },
    {
      "cell_type": "code",
      "execution_count": null,
      "id": "cbdb6d30",
      "metadata": {
        "id": "cbdb6d30",
        "outputId": "7f14db9a-aa9e-4721-dac9-7fa9e87dd282"
      },
      "outputs": [
        {
          "data": {
            "text/plain": [
              "[<matplotlib.lines.Line2D at 0x266dc4af0d0>]"
            ]
          },
          "execution_count": 114,
          "metadata": {},
          "output_type": "execute_result"
        },
        {
          "data": {
            "image/png": "[encoded data removed]",
            "text/plain": [
              "<Figure size 640x480 with 1 Axes>"
            ]
          },
          "metadata": {},
          "output_type": "display_data"
        }
      ],
      "source": [
        "plt.plot(range(1,40),error_rate)"
      ]
    },
    {
      "cell_type": "code",
      "execution_count": null,
      "id": "4f55361d",
      "metadata": {
        "id": "4f55361d"
      },
      "outputs": [],
      "source": [
        "knn=KNeighborsClassifier(n_neighbors=25)"
      ]
    },
    {
      "cell_type": "code",
      "execution_count": null,
      "id": "1e6c094d",
      "metadata": {
        "id": "1e6c094d",
        "outputId": "ea6c266d-c81d-4da2-8b40-b43b423f791d"
      },
      "outputs": [
        {
          "data": {
            "text/html": [
              "<style>#sk-container-id-9 {color: black;background-color: white;}#sk-container-id-9 pre{padding: 0;}#sk-container-id-9 div.sk-toggleable {background-color: white;}#sk-container-id-9 label.sk-toggleable__label {cursor: pointer;display: block;width: 100%;margin-bottom: 0;padding: 0.3em;box-sizing: border-box;text-align: center;}#sk-container-id-9 label.sk-toggleable__label-arrow:before {content: \"▸\";float: left;margin-right: 0.25em;color: #696969;}#sk-container-id-9 label.sk-toggleable__label-arrow:hover:before {color: black;}#sk-container-id-9 div.sk-estimator:hover label.sk-toggleable__label-arrow:before {color: black;}#sk-container-id-9 div.sk-toggleable__content {max-height: 0;max-width: 0;overflow: hidden;text-align: left;background-color: #f0f8ff;}#sk-container-id-9 div.sk-toggleable__content pre {margin: 0.2em;color: black;border-radius: 0.25em;background-color: #f0f8ff;}#sk-container-id-9 input.sk-toggleable__control:checked~div.sk-toggleable__content {max-height: 200px;max-width: 100%;overflow: auto;}#sk-container-id-9 input.sk-toggleable__control:checked~label.sk-toggleable__label-arrow:before {content: \"▾\";}#sk-container-id-9 div.sk-estimator input.sk-toggleable__control:checked~label.sk-toggleable__label {background-color: #d4ebff;}#sk-container-id-9 div.sk-label input.sk-toggleable__control:checked~label.sk-toggleable__label {background-color: #d4ebff;}#sk-container-id-9 input.sk-hidden--visually {border: 0;clip: rect(1px 1px 1px 1px);clip: rect(1px, 1px, 1px, 1px);height: 1px;margin: -1px;overflow: hidden;padding: 0;position: absolute;width: 1px;}#sk-container-id-9 div.sk-estimator {font-family: monospace;background-color: #f0f8ff;border: 1px dotted black;border-radius: 0.25em;box-sizing: border-box;margin-bottom: 0.5em;}#sk-container-id-9 div.sk-estimator:hover {background-color: #d4ebff;}#sk-container-id-9 div.sk-parallel-item::after {content: \"\";width: 100%;border-bottom: 1px solid gray;flex-grow: 1;}#sk-container-id-9 div.sk-label:hover label.sk-toggleable__label {background-color: #d4ebff;}#sk-container-id-9 div.sk-serial::before {content: \"\";position: absolute;border-left: 1px solid gray;box-sizing: border-box;top: 0;bottom: 0;left: 50%;z-index: 0;}#sk-container-id-9 div.sk-serial {display: flex;flex-direction: column;align-items: center;background-color: white;padding-right: 0.2em;padding-left: 0.2em;position: relative;}#sk-container-id-9 div.sk-item {position: relative;z-index: 1;}#sk-container-id-9 div.sk-parallel {display: flex;align-items: stretch;justify-content: center;background-color: white;position: relative;}#sk-container-id-9 div.sk-item::before, #sk-container-id-9 div.sk-parallel-item::before {content: \"\";position: absolute;border-left: 1px solid gray;box-sizing: border-box;top: 0;bottom: 0;left: 50%;z-index: -1;}#sk-container-id-9 div.sk-parallel-item {display: flex;flex-direction: column;z-index: 1;position: relative;background-color: white;}#sk-container-id-9 div.sk-parallel-item:first-child::after {align-self: flex-end;width: 50%;}#sk-container-id-9 div.sk-parallel-item:last-child::after {align-self: flex-start;width: 50%;}#sk-container-id-9 div.sk-parallel-item:only-child::after {width: 0;}#sk-container-id-9 div.sk-dashed-wrapped {border: 1px dashed gray;margin: 0 0.4em 0.5em 0.4em;box-sizing: border-box;padding-bottom: 0.4em;background-color: white;}#sk-container-id-9 div.sk-label label {font-family: monospace;font-weight: bold;display: inline-block;line-height: 1.2em;}#sk-container-id-9 div.sk-label-container {text-align: center;}#sk-container-id-9 div.sk-container {/* jupyter's `normalize.less` sets `[hidden] { display: none; }` but bootstrap.min.css set `[hidden] { display: none !important; }` so we also need the `!important` here to be able to override the default hidden behavior on the sphinx rendered scikit-learn.org. See: https://github.com/scikit-learn/scikit-learn/issues/21755 */display: inline-block !important;position: relative;}#sk-container-id-9 div.sk-text-repr-fallback {display: none;}</style><div id=\"sk-container-id-9\" class=\"sk-top-container\"><div class=\"sk-text-repr-fallback\"><pre>KNeighborsClassifier(n_neighbors=25)</pre><b>In a Jupyter environment, please rerun this cell to show the HTML representation or trust the notebook. <br />On GitHub, the HTML representation is unable to render, please try loading this page with nbviewer.org.</b></div><div class=\"sk-container\" hidden><div class=\"sk-item\"><div class=\"sk-estimator sk-toggleable\"><input class=\"sk-toggleable__control sk-hidden--visually\" id=\"sk-estimator-id-15\" type=\"checkbox\" checked><label for=\"sk-estimator-id-15\" class=\"sk-toggleable__label sk-toggleable__label-arrow\">KNeighborsClassifier</label><div class=\"sk-toggleable__content\"><pre>KNeighborsClassifier(n_neighbors=25)</pre></div></div></div></div></div>"
            ],
            "text/plain": [
              "KNeighborsClassifier(n_neighbors=25)"
            ]
          },
          "execution_count": 116,
          "metadata": {},
          "output_type": "execute_result"
        }
      ],
      "source": [
        "knn.fit(X_train_sc,y_train)"
      ]
    },
    {
      "cell_type": "code",
      "execution_count": null,
      "id": "a2c8ca2c",
      "metadata": {
        "id": "a2c8ca2c",
        "outputId": "6bb45140-a179-48f3-9f88-5a0978858c4c"
      },
      "outputs": [
        {
          "data": {
            "text/plain": [
              "0.7537138389366693"
            ]
          },
          "execution_count": 117,
          "metadata": {},
          "output_type": "execute_result"
        }
      ],
      "source": [
        "#training accuracy\n",
        "y_prd_train=knn.predict(X_train_sc)\n",
        "accuracy_score(y_train,y_prd_train)"
      ]
    },
    {
      "cell_type": "code",
      "execution_count": null,
      "id": "5bcb9125",
      "metadata": {
        "id": "5bcb9125"
      },
      "outputs": [],
      "source": [
        "y_pred=knn.predict(X_test_sc)"
      ]
    },
    {
      "cell_type": "code",
      "execution_count": null,
      "id": "f4475ce6",
      "metadata": {
        "id": "f4475ce6",
        "outputId": "e26e1eff-bccd-433e-e85b-6041e4f75fc6"
      },
      "outputs": [
        {
          "name": "stdout",
          "output_type": "stream",
          "text": [
            "[[116  33]\n",
            " [ 44 127]]\n"
          ]
        }
      ],
      "source": [
        "print(confusion_matrix(y_test,y_pred))"
      ]
    },
    {
      "cell_type": "code",
      "execution_count": null,
      "id": "749541f2",
      "metadata": {
        "id": "749541f2",
        "outputId": "734de8f5-eafa-40c8-a7e9-e647bddaed4a"
      },
      "outputs": [
        {
          "name": "stdout",
          "output_type": "stream",
          "text": [
            "              precision    recall  f1-score   support\n",
            "\n",
            "           0       0.72      0.78      0.75       149\n",
            "           1       0.79      0.74      0.77       171\n",
            "\n",
            "    accuracy                           0.76       320\n",
            "   macro avg       0.76      0.76      0.76       320\n",
            "weighted avg       0.76      0.76      0.76       320\n",
            "\n"
          ]
        }
      ],
      "source": [
        "print(classification_report(y_test,y_pred))"
      ]
    },
    {
      "cell_type": "code",
      "execution_count": null,
      "id": "004ec755",
      "metadata": {
        "id": "004ec755",
        "outputId": "128abdef-d658-46ad-9583-d2030c311052"
      },
      "outputs": [
        {
          "data": {
            "text/plain": [
              "0.759375"
            ]
          },
          "execution_count": 121,
          "metadata": {},
          "output_type": "execute_result"
        }
      ],
      "source": [
        "accuracy_score(y_test,y_pred)"
      ]
    },
    {
      "cell_type": "code",
      "execution_count": null,
      "id": "87ed8738",
      "metadata": {
        "id": "87ed8738"
      },
      "outputs": [],
      "source": [
        "#cross validation"
      ]
    },
    {
      "cell_type": "code",
      "execution_count": null,
      "id": "754cf138",
      "metadata": {
        "id": "754cf138"
      },
      "outputs": [],
      "source": [
        "cv=StratifiedKFold(n_splits=5,shuffle=True,random_state=2024)"
      ]
    },
    {
      "cell_type": "code",
      "execution_count": null,
      "id": "5e3880de",
      "metadata": {
        "id": "5e3880de"
      },
      "outputs": [],
      "source": [
        "param_grid={\n",
        "    'n_neighbors':[i for i in range(1,40)],\n",
        "    'weights':['uniform','distance'],\n",
        "    'metric':['euclidean','manhattan']\n",
        "}"
      ]
    },
    {
      "cell_type": "code",
      "execution_count": null,
      "id": "7124402f",
      "metadata": {
        "id": "7124402f"
      },
      "outputs": [],
      "source": [
        "grid_search=GridSearchCV(estimator=knn,cv=cv,param_grid=param_grid,scoring='accuracy')"
      ]
    },
    {
      "cell_type": "code",
      "execution_count": null,
      "id": "d58e09fd",
      "metadata": {
        "id": "d58e09fd",
        "outputId": "719d7c5d-c16e-43b6-f49e-076cd9eea0eb"
      },
      "outputs": [
        {
          "data": {
            "text/html": [
              "<style>#sk-container-id-10 {color: black;background-color: white;}#sk-container-id-10 pre{padding: 0;}#sk-container-id-10 div.sk-toggleable {background-color: white;}#sk-container-id-10 label.sk-toggleable__label {cursor: pointer;display: block;width: 100%;margin-bottom: 0;padding: 0.3em;box-sizing: border-box;text-align: center;}#sk-container-id-10 label.sk-toggleable__label-arrow:before {content: \"▸\";float: left;margin-right: 0.25em;color: #696969;}#sk-container-id-10 label.sk-toggleable__label-arrow:hover:before {color: black;}#sk-container-id-10 div.sk-estimator:hover label.sk-toggleable__label-arrow:before {color: black;}#sk-container-id-10 div.sk-toggleable__content {max-height: 0;max-width: 0;overflow: hidden;text-align: left;background-color: #f0f8ff;}#sk-container-id-10 div.sk-toggleable__content pre {margin: 0.2em;color: black;border-radius: 0.25em;background-color: #f0f8ff;}#sk-container-id-10 input.sk-toggleable__control:checked~div.sk-toggleable__content {max-height: 200px;max-width: 100%;overflow: auto;}#sk-container-id-10 input.sk-toggleable__control:checked~label.sk-toggleable__label-arrow:before {content: \"▾\";}#sk-container-id-10 div.sk-estimator input.sk-toggleable__control:checked~label.sk-toggleable__label {background-color: #d4ebff;}#sk-container-id-10 div.sk-label input.sk-toggleable__control:checked~label.sk-toggleable__label {background-color: #d4ebff;}#sk-container-id-10 input.sk-hidden--visually {border: 0;clip: rect(1px 1px 1px 1px);clip: rect(1px, 1px, 1px, 1px);height: 1px;margin: -1px;overflow: hidden;padding: 0;position: absolute;width: 1px;}#sk-container-id-10 div.sk-estimator {font-family: monospace;background-color: #f0f8ff;border: 1px dotted black;border-radius: 0.25em;box-sizing: border-box;margin-bottom: 0.5em;}#sk-container-id-10 div.sk-estimator:hover {background-color: #d4ebff;}#sk-container-id-10 div.sk-parallel-item::after {content: \"\";width: 100%;border-bottom: 1px solid gray;flex-grow: 1;}#sk-container-id-10 div.sk-label:hover label.sk-toggleable__label {background-color: #d4ebff;}#sk-container-id-10 div.sk-serial::before {content: \"\";position: absolute;border-left: 1px solid gray;box-sizing: border-box;top: 0;bottom: 0;left: 50%;z-index: 0;}#sk-container-id-10 div.sk-serial {display: flex;flex-direction: column;align-items: center;background-color: white;padding-right: 0.2em;padding-left: 0.2em;position: relative;}#sk-container-id-10 div.sk-item {position: relative;z-index: 1;}#sk-container-id-10 div.sk-parallel {display: flex;align-items: stretch;justify-content: center;background-color: white;position: relative;}#sk-container-id-10 div.sk-item::before, #sk-container-id-10 div.sk-parallel-item::before {content: \"\";position: absolute;border-left: 1px solid gray;box-sizing: border-box;top: 0;bottom: 0;left: 50%;z-index: -1;}#sk-container-id-10 div.sk-parallel-item {display: flex;flex-direction: column;z-index: 1;position: relative;background-color: white;}#sk-container-id-10 div.sk-parallel-item:first-child::after {align-self: flex-end;width: 50%;}#sk-container-id-10 div.sk-parallel-item:last-child::after {align-self: flex-start;width: 50%;}#sk-container-id-10 div.sk-parallel-item:only-child::after {width: 0;}#sk-container-id-10 div.sk-dashed-wrapped {border: 1px dashed gray;margin: 0 0.4em 0.5em 0.4em;box-sizing: border-box;padding-bottom: 0.4em;background-color: white;}#sk-container-id-10 div.sk-label label {font-family: monospace;font-weight: bold;display: inline-block;line-height: 1.2em;}#sk-container-id-10 div.sk-label-container {text-align: center;}#sk-container-id-10 div.sk-container {/* jupyter's `normalize.less` sets `[hidden] { display: none; }` but bootstrap.min.css set `[hidden] { display: none !important; }` so we also need the `!important` here to be able to override the default hidden behavior on the sphinx rendered scikit-learn.org. See: https://github.com/scikit-learn/scikit-learn/issues/21755 */display: inline-block !important;position: relative;}#sk-container-id-10 div.sk-text-repr-fallback {display: none;}</style><div id=\"sk-container-id-10\" class=\"sk-top-container\"><div class=\"sk-text-repr-fallback\"><pre>GridSearchCV(cv=StratifiedKFold(n_splits=5, random_state=2024, shuffle=True),\n",
              "             estimator=KNeighborsClassifier(n_neighbors=25),\n",
              "             param_grid={&#x27;metric&#x27;: [&#x27;euclidean&#x27;, &#x27;manhattan&#x27;],\n",
              "                         &#x27;n_neighbors&#x27;: [1, 2, 3, 4, 5, 6, 7, 8, 9, 10, 11, 12,\n",
              "                                         13, 14, 15, 16, 17, 18, 19, 20, 21, 22,\n",
              "                                         23, 24, 25, 26, 27, 28, 29, 30, ...],\n",
              "                         &#x27;weights&#x27;: [&#x27;uniform&#x27;, &#x27;distance&#x27;]},\n",
              "             scoring=&#x27;accuracy&#x27;)</pre><b>In a Jupyter environment, please rerun this cell to show the HTML representation or trust the notebook. <br />On GitHub, the HTML representation is unable to render, please try loading this page with nbviewer.org.</b></div><div class=\"sk-container\" hidden><div class=\"sk-item sk-dashed-wrapped\"><div class=\"sk-label-container\"><div class=\"sk-label sk-toggleable\"><input class=\"sk-toggleable__control sk-hidden--visually\" id=\"sk-estimator-id-16\" type=\"checkbox\" ><label for=\"sk-estimator-id-16\" class=\"sk-toggleable__label sk-toggleable__label-arrow\">GridSearchCV</label><div class=\"sk-toggleable__content\"><pre>GridSearchCV(cv=StratifiedKFold(n_splits=5, random_state=2024, shuffle=True),\n",
              "             estimator=KNeighborsClassifier(n_neighbors=25),\n",
              "             param_grid={&#x27;metric&#x27;: [&#x27;euclidean&#x27;, &#x27;manhattan&#x27;],\n",
              "                         &#x27;n_neighbors&#x27;: [1, 2, 3, 4, 5, 6, 7, 8, 9, 10, 11, 12,\n",
              "                                         13, 14, 15, 16, 17, 18, 19, 20, 21, 22,\n",
              "                                         23, 24, 25, 26, 27, 28, 29, 30, ...],\n",
              "                         &#x27;weights&#x27;: [&#x27;uniform&#x27;, &#x27;distance&#x27;]},\n",
              "             scoring=&#x27;accuracy&#x27;)</pre></div></div></div><div class=\"sk-parallel\"><div class=\"sk-parallel-item\"><div class=\"sk-item\"><div class=\"sk-label-container\"><div class=\"sk-label sk-toggleable\"><input class=\"sk-toggleable__control sk-hidden--visually\" id=\"sk-estimator-id-17\" type=\"checkbox\" ><label for=\"sk-estimator-id-17\" class=\"sk-toggleable__label sk-toggleable__label-arrow\">estimator: KNeighborsClassifier</label><div class=\"sk-toggleable__content\"><pre>KNeighborsClassifier(n_neighbors=25)</pre></div></div></div><div class=\"sk-serial\"><div class=\"sk-item\"><div class=\"sk-estimator sk-toggleable\"><input class=\"sk-toggleable__control sk-hidden--visually\" id=\"sk-estimator-id-18\" type=\"checkbox\" ><label for=\"sk-estimator-id-18\" class=\"sk-toggleable__label sk-toggleable__label-arrow\">KNeighborsClassifier</label><div class=\"sk-toggleable__content\"><pre>KNeighborsClassifier(n_neighbors=25)</pre></div></div></div></div></div></div></div></div></div></div>"
            ],
            "text/plain": [
              "GridSearchCV(cv=StratifiedKFold(n_splits=5, random_state=2024, shuffle=True),\n",
              "             estimator=KNeighborsClassifier(n_neighbors=25),\n",
              "             param_grid={'metric': ['euclidean', 'manhattan'],\n",
              "                         'n_neighbors': [1, 2, 3, 4, 5, 6, 7, 8, 9, 10, 11, 12,\n",
              "                                         13, 14, 15, 16, 17, 18, 19, 20, 21, 22,\n",
              "                                         23, 24, 25, 26, 27, 28, 29, 30, ...],\n",
              "                         'weights': ['uniform', 'distance']},\n",
              "             scoring='accuracy')"
            ]
          },
          "execution_count": 126,
          "metadata": {},
          "output_type": "execute_result"
        }
      ],
      "source": [
        "grid_search.fit(X_train_sc,y_train)"
      ]
    },
    {
      "cell_type": "code",
      "execution_count": null,
      "id": "6c424c06",
      "metadata": {
        "id": "6c424c06"
      },
      "outputs": [],
      "source": [
        "#print the best parameters found by grid search"
      ]
    },
    {
      "cell_type": "code",
      "execution_count": null,
      "id": "39de2b78",
      "metadata": {
        "id": "39de2b78",
        "outputId": "d71133b6-3777-4594-d47f-d14e162bec4d"
      },
      "outputs": [
        {
          "name": "stdout",
          "output_type": "stream",
          "text": [
            "best hyperparameters:  {'metric': 'euclidean', 'n_neighbors': 14, 'weights': 'distance'}\n"
          ]
        }
      ],
      "source": [
        "print(\"best hyperparameters: \",grid_search.best_params_)\n"
      ]
    },
    {
      "cell_type": "code",
      "execution_count": null,
      "id": "94ea3c81",
      "metadata": {
        "id": "94ea3c81"
      },
      "outputs": [],
      "source": [
        "best_knn=grid_search.best_estimator_"
      ]
    },
    {
      "cell_type": "code",
      "execution_count": null,
      "id": "3dcc79ef",
      "metadata": {
        "id": "3dcc79ef"
      },
      "outputs": [],
      "source": [
        "y_pred_1=best_knn.predict(X_test_sc)"
      ]
    },
    {
      "cell_type": "code",
      "execution_count": null,
      "id": "0540375c",
      "metadata": {
        "id": "0540375c",
        "outputId": "ad97abc0-a1c0-48a1-c09d-174043868706"
      },
      "outputs": [
        {
          "name": "stdout",
          "output_type": "stream",
          "text": [
            "              precision    recall  f1-score   support\n",
            "\n",
            "           0       0.79      0.79      0.79       149\n",
            "           1       0.81      0.81      0.81       171\n",
            "\n",
            "    accuracy                           0.80       320\n",
            "   macro avg       0.80      0.80      0.80       320\n",
            "weighted avg       0.80      0.80      0.80       320\n",
            "\n"
          ]
        }
      ],
      "source": [
        "print(classification_report(y_test,y_pred_1))"
      ]
    },
    {
      "cell_type": "code",
      "execution_count": null,
      "id": "8367f2b7",
      "metadata": {
        "id": "8367f2b7",
        "outputId": "6f42a033-b773-4163-f9f1-ab4059080302"
      },
      "outputs": [
        {
          "name": "stdout",
          "output_type": "stream",
          "text": [
            "[[117  32]\n",
            " [ 32 139]]\n"
          ]
        }
      ],
      "source": [
        "print(confusion_matrix(y_test,y_pred_1))"
      ]
    },
    {
      "cell_type": "code",
      "execution_count": null,
      "id": "4026bfdd",
      "metadata": {
        "id": "4026bfdd"
      },
      "outputs": [],
      "source": []
    }
  ],
  "metadata": {
    "kernelspec": {
      "display_name": "Python 3 (ipykernel)",
      "language": "python",
      "name": "python3"
    },
    "language_info": {
      "codemirror_mode": {
        "name": "ipython",
        "version": 3
      },
      "file_extension": ".py",
      "mimetype": "text/x-python",
      "name": "python",
      "nbconvert_exporter": "python",
      "pygments_lexer": "ipython3",
      "version": "3.10.9"
    },
    "colab": {
      "provenance": [],
      "include_colab_link": true
    }
  },
  "nbformat": 4,
  "nbformat_minor": 5
}